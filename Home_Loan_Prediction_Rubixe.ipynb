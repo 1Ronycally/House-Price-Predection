{
  "nbformat": 4,
  "nbformat_minor": 0,
  "metadata": {
    "colab": {
      "name": "Home Loan Prediction_Rubixe.ipynb",
      "provenance": [],
      "collapsed_sections": [],
      "mount_file_id": "1oDqPjey0KV930_ZlKkH0LiH9Wg65IAUF",
      "authorship_tag": "ABX9TyN9sSsTO9s4bPzqAP7S7FwO",
      "include_colab_link": true
    },
    "kernelspec": {
      "name": "python3",
      "display_name": "Python 3"
    }
  },
  "cells": [
    {
      "cell_type": "markdown",
      "metadata": {
        "id": "view-in-github",
        "colab_type": "text"
      },
      "source": [
        "<a href=\"https://colab.research.google.com/github/bijaykahar/House-Price-Predection/blob/master/Home_Loan_Prediction_Rubixe.ipynb\" target=\"_parent\"><img src=\"https://colab.research.google.com/assets/colab-badge.svg\" alt=\"Open In Colab\"/></a>"
      ]
    },
    {
      "cell_type": "code",
      "metadata": {
        "id": "WfuobysWh6Pb",
        "colab_type": "code",
        "colab": {
          "base_uri": "https://localhost:8080/",
          "height": 54
        },
        "outputId": "ac5da0bd-4823-4981-e714-68acca12faa8"
      },
      "source": [
        "from google.colab import drive\n",
        "drive.mount('/content/drive')"
      ],
      "execution_count": null,
      "outputs": [
        {
          "output_type": "stream",
          "text": [
            "Drive already mounted at /content/drive; to attempt to forcibly remount, call drive.mount(\"/content/drive\", force_remount=True).\n"
          ],
          "name": "stdout"
        }
      ]
    },
    {
      "cell_type": "code",
      "metadata": {
        "id": "0kCJ74aP0wmq",
        "colab_type": "code",
        "colab": {}
      },
      "source": [
        "import zipfile\n",
        "with zipfile.ZipFile('/content/drive/My Drive/Internship_DataMites/PRCP-1006-HomeLoanDef-20200821T121214Z-001.zip', 'r') as zip_ref:\n",
        "    zip_ref.extractall(\"/content/drive/My Drive/Internship_DataMites\")"
      ],
      "execution_count": null,
      "outputs": []
    },
    {
      "cell_type": "code",
      "metadata": {
        "id": "8-0qy8OEmJ7y",
        "colab_type": "code",
        "colab": {}
      },
      "source": [
        "path ='/content/drive/My Drive/Internship_DataMites/PRCP-1006-HomeLoanDef'"
      ],
      "execution_count": null,
      "outputs": []
    },
    {
      "cell_type": "code",
      "metadata": {
        "id": "JhyBEvc2hkfc",
        "colab_type": "code",
        "colab": {}
      },
      "source": [
        "'''\n",
        "POS_CASH_bal = pd.read_csv(path + '/POS_CASH_balance.csv')\n",
        "bru = pd.read_csv(path+'/bureau.csv')\n",
        "bru_bal = pd.read_csv(path + \"/bureau_balance.csv\")\n",
        "cre_card_bal = pd.read_csv(path + \"/credit_card_balance.csv\")\n",
        "inst_paymnt= pd.read_csv(path + \"/installments_payments.csv\")\n",
        "prev_bal = pd.read_csv(path + \"/previous_application.csv\")\n",
        "\n",
        "'''"
      ],
      "execution_count": null,
      "outputs": []
    },
    {
      "cell_type": "code",
      "metadata": {
        "id": "mQjQGrgWB4oQ",
        "colab_type": "code",
        "colab": {
          "base_uri": "https://localhost:8080/",
          "height": 71
        },
        "outputId": "b15d6aaf-509f-4099-c645-f7b3b0616af1"
      },
      "source": [
        "import pandas as pd \n",
        "import numpy as np\n",
        "import seaborn as sns\n",
        "import matplotlib.pyplot as plt"
      ],
      "execution_count": 2,
      "outputs": [
        {
          "output_type": "stream",
          "text": [
            "/usr/local/lib/python3.6/dist-packages/statsmodels/tools/_testing.py:19: FutureWarning: pandas.util.testing is deprecated. Use the functions in the public API at pandas.testing instead.\n",
            "  import pandas.util.testing as tm\n"
          ],
          "name": "stderr"
        }
      ]
    },
    {
      "cell_type": "code",
      "metadata": {
        "id": "npUKHaOjkNYb",
        "colab_type": "code",
        "colab": {}
      },
      "source": [
        "app_train= pd.read_csv(path+'/application_train.csv')\n",
        "app_train.shape"
      ],
      "execution_count": null,
      "outputs": []
    },
    {
      "cell_type": "code",
      "metadata": {
        "id": "M0iUaxVdnDou",
        "colab_type": "code",
        "colab": {}
      },
      "source": [
        "#Random Sampling taking the Top 1 Lakh Data \n",
        "X=app_train.head(100000) \n",
        "X.to_csv('TrainingData.csv')"
      ],
      "execution_count": null,
      "outputs": []
    },
    {
      "cell_type": "code",
      "metadata": {
        "id": "bMopUmkKlQSR",
        "colab_type": "code",
        "colab": {}
      },
      "source": [
        "train_data=pd.read_csv('/content/sample_data/TrainingData.csv')"
      ],
      "execution_count": 107,
      "outputs": []
    },
    {
      "cell_type": "code",
      "metadata": {
        "id": "xzWJjfyEmLpw",
        "colab_type": "code",
        "colab": {
          "base_uri": "https://localhost:8080/",
          "height": 187
        },
        "outputId": "69428b5d-666c-413a-8a16-98a25653bf52"
      },
      "source": [
        "train_data.columns"
      ],
      "execution_count": 108,
      "outputs": [
        {
          "output_type": "execute_result",
          "data": {
            "text/plain": [
              "Index(['Unnamed: 0', 'SK_ID_CURR', 'TARGET', 'NAME_CONTRACT_TYPE',\n",
              "       'CODE_GENDER', 'FLAG_OWN_CAR', 'FLAG_OWN_REALTY', 'CNT_CHILDREN',\n",
              "       'AMT_INCOME_TOTAL', 'AMT_CREDIT',\n",
              "       ...\n",
              "       'FLAG_DOCUMENT_18', 'FLAG_DOCUMENT_19', 'FLAG_DOCUMENT_20',\n",
              "       'FLAG_DOCUMENT_21', 'AMT_REQ_CREDIT_BUREAU_HOUR',\n",
              "       'AMT_REQ_CREDIT_BUREAU_DAY', 'AMT_REQ_CREDIT_BUREAU_WEEK',\n",
              "       'AMT_REQ_CREDIT_BUREAU_MON', 'AMT_REQ_CREDIT_BUREAU_QRT',\n",
              "       'AMT_REQ_CREDIT_BUREAU_YEAR'],\n",
              "      dtype='object', length=123)"
            ]
          },
          "metadata": {
            "tags": []
          },
          "execution_count": 108
        }
      ]
    },
    {
      "cell_type": "code",
      "metadata": {
        "id": "1VnZv8iLDYvT",
        "colab_type": "code",
        "colab": {
          "base_uri": "https://localhost:8080/",
          "height": 34
        },
        "outputId": "7b3381f7-f6d1-4ef6-9d8b-4685e803e9ce"
      },
      "source": [
        "train_data.shape"
      ],
      "execution_count": 109,
      "outputs": [
        {
          "output_type": "execute_result",
          "data": {
            "text/plain": [
              "(100000, 123)"
            ]
          },
          "metadata": {
            "tags": []
          },
          "execution_count": 109
        }
      ]
    },
    {
      "cell_type": "code",
      "metadata": {
        "id": "u1VUAP68hJzP",
        "colab_type": "code",
        "colab": {}
      },
      "source": [
        "del train_data['Unnamed: 0']  #Removing The Unwanted Variable "
      ],
      "execution_count": 110,
      "outputs": []
    },
    {
      "cell_type": "code",
      "metadata": {
        "id": "SGAKrAKnBxX2",
        "colab_type": "code",
        "colab": {
          "base_uri": "https://localhost:8080/",
          "height": 34
        },
        "outputId": "bbe29e65-aac1-45cb-cdd5-bf0c22246480"
      },
      "source": [
        "count=0\n",
        "for col in train_data.columns:\n",
        "  if (train_data[col].isnull().count()):\n",
        "    count=count+1\n",
        "\n",
        "print(count)\n",
        "\n",
        "#Note - All Columns has Null Values "
      ],
      "execution_count": 111,
      "outputs": [
        {
          "output_type": "stream",
          "text": [
            "122\n"
          ],
          "name": "stdout"
        }
      ]
    },
    {
      "cell_type": "code",
      "metadata": {
        "id": "0TlQeu0vDVBe",
        "colab_type": "code",
        "colab": {
          "base_uri": "https://localhost:8080/",
          "height": 34
        },
        "outputId": "dd5ddd65-a510-412b-db97-8384c5005664"
      },
      "source": [
        "def null_val_treatment(df):\n",
        "  count=0\n",
        "  for col in df.columns:\n",
        "    if (100 * train_data[col].isnull().sum()) / len(df) > 0.50:\n",
        "      count=count+1\n",
        "      #print(col)\n",
        "  print(count)\n",
        "      \n",
        "\n",
        "\n",
        "null_val_treatment(train_data)\n"
      ],
      "execution_count": 112,
      "outputs": [
        {
          "output_type": "stream",
          "text": [
            "57\n"
          ],
          "name": "stdout"
        }
      ]
    },
    {
      "cell_type": "code",
      "metadata": {
        "id": "GQr_r3w8Ft9G",
        "colab_type": "code",
        "colab": {
          "base_uri": "https://localhost:8080/",
          "height": 85
        },
        "outputId": "7ef81807-4789-4cf0-e638-772a791f3f97"
      },
      "source": [
        "train_data.dtypes.value_counts()"
      ],
      "execution_count": 113,
      "outputs": [
        {
          "output_type": "execute_result",
          "data": {
            "text/plain": [
              "float64    65\n",
              "int64      41\n",
              "object     16\n",
              "dtype: int64"
            ]
          },
          "metadata": {
            "tags": []
          },
          "execution_count": 113
        }
      ]
    },
    {
      "cell_type": "code",
      "metadata": {
        "id": "CGaStgskF0mG",
        "colab_type": "code",
        "colab": {
          "base_uri": "https://localhost:8080/",
          "height": 306
        },
        "outputId": "7a93c0fb-68f7-428d-d288-cc5a97420518"
      },
      "source": [
        "train_data.select_dtypes('object').apply(pd.Series.nunique, axis = 0)"
      ],
      "execution_count": 114,
      "outputs": [
        {
          "output_type": "execute_result",
          "data": {
            "text/plain": [
              "NAME_CONTRACT_TYPE             2\n",
              "CODE_GENDER                    3\n",
              "FLAG_OWN_CAR                   2\n",
              "FLAG_OWN_REALTY                2\n",
              "NAME_TYPE_SUITE                7\n",
              "NAME_INCOME_TYPE               8\n",
              "NAME_EDUCATION_TYPE            5\n",
              "NAME_FAMILY_STATUS             6\n",
              "NAME_HOUSING_TYPE              6\n",
              "OCCUPATION_TYPE               18\n",
              "WEEKDAY_APPR_PROCESS_START     7\n",
              "ORGANIZATION_TYPE             58\n",
              "FONDKAPREMONT_MODE             4\n",
              "HOUSETYPE_MODE                 3\n",
              "WALLSMATERIAL_MODE             7\n",
              "EMERGENCYSTATE_MODE            2\n",
              "dtype: int64"
            ]
          },
          "metadata": {
            "tags": []
          },
          "execution_count": 114
        }
      ]
    },
    {
      "cell_type": "code",
      "metadata": {
        "id": "vPKBgCQ-GUoV",
        "colab_type": "code",
        "colab": {}
      },
      "source": [
        "from sklearn.preprocessing import LabelEncoder\n",
        "labelencoder=  LabelEncoder()"
      ],
      "execution_count": 115,
      "outputs": []
    },
    {
      "cell_type": "code",
      "metadata": {
        "id": "gv3GuTdoGXAz",
        "colab_type": "code",
        "colab": {}
      },
      "source": [
        "cat_features=[x for x in train_data.columns if train_data[x].dtype==\"object\"]\n",
        "\n",
        "for col in cat_features:\n",
        "    if col in train_data.columns:\n",
        "        i = train_data.columns.get_loc(col)\n",
        "        train_data.iloc[:,i] = train_data.apply(lambda i:labelencoder.fit_transform(i.astype(str)), axis=0, result_type='expand')"
      ],
      "execution_count": 116,
      "outputs": []
    },
    {
      "cell_type": "code",
      "metadata": {
        "id": "_mn5sgpVHkLY",
        "colab_type": "code",
        "colab": {
          "base_uri": "https://localhost:8080/",
          "height": 204
        },
        "outputId": "08f235a3-a702-4ff2-a001-cec241ec5847"
      },
      "source": [
        "train_data['ORGANIZATION_TYPE'].head(10)"
      ],
      "execution_count": 117,
      "outputs": [
        {
          "output_type": "execute_result",
          "data": {
            "text/plain": [
              "0     5\n",
              "1    39\n",
              "2    11\n",
              "3     5\n",
              "4    37\n",
              "5    33\n",
              "6     5\n",
              "7    33\n",
              "8    57\n",
              "9     9\n",
              "Name: ORGANIZATION_TYPE, dtype: int64"
            ]
          },
          "metadata": {
            "tags": []
          },
          "execution_count": 117
        }
      ]
    },
    {
      "cell_type": "code",
      "metadata": {
        "id": "csPssHaaBjG9",
        "colab_type": "code",
        "colab": {
          "base_uri": "https://localhost:8080/",
          "height": 34
        },
        "outputId": "fd362b9e-d98d-48f0-8b75-fa282dd9c3d1"
      },
      "source": [
        "len(train_data.columns)"
      ],
      "execution_count": 118,
      "outputs": [
        {
          "output_type": "execute_result",
          "data": {
            "text/plain": [
              "122"
            ]
          },
          "metadata": {
            "tags": []
          },
          "execution_count": 118
        }
      ]
    },
    {
      "cell_type": "code",
      "metadata": {
        "id": "sEKF5qpvIn-n",
        "colab_type": "code",
        "colab": {
          "base_uri": "https://localhost:8080/",
          "height": 612
        },
        "outputId": "5ca4bb39-10ff-4328-f776-008cc503fe2d"
      },
      "source": [
        "correlations = train_data.corr()['TARGET'].sort_values()\n",
        "\n",
        "# Display correlations\n",
        "print('Most Positive Correlations:\\n', correlations.tail(15))\n",
        "print('\\nMost Negative Correlations:\\n', correlations.head(15))"
      ],
      "execution_count": 120,
      "outputs": [
        {
          "output_type": "stream",
          "text": [
            "Most Positive Correlations:\n",
            " OWN_CAR_AGE                    0.043350\n",
            "HOUSETYPE_MODE                 0.043367\n",
            "FLAG_DOCUMENT_3                0.043778\n",
            "FLAG_EMP_PHONE                 0.044348\n",
            "EMERGENCYSTATE_MODE            0.046841\n",
            "NAME_INCOME_TYPE               0.047059\n",
            "REG_CITY_NOT_WORK_CITY         0.048274\n",
            "DAYS_ID_PUBLISH                0.051795\n",
            "DAYS_LAST_PHONE_CHANGE         0.053020\n",
            "CODE_GENDER                    0.055232\n",
            "NAME_EDUCATION_TYPE            0.056051\n",
            "REGION_RATING_CLIENT           0.061597\n",
            "REGION_RATING_CLIENT_W_CITY    0.062816\n",
            "DAYS_BIRTH                     0.076838\n",
            "TARGET                         1.000000\n",
            "Name: TARGET, dtype: float64\n",
            "\n",
            "Most Negative Correlations:\n",
            " EXT_SOURCE_3                 -0.178734\n",
            "EXT_SOURCE_2                 -0.161657\n",
            "EXT_SOURCE_1                 -0.153105\n",
            "FLOORSMAX_AVG                -0.044961\n",
            "FLOORSMAX_MEDI               -0.044462\n",
            "FLOORSMAX_MODE               -0.043756\n",
            "DAYS_EMPLOYED                -0.043367\n",
            "AMT_GOODS_PRICE              -0.040316\n",
            "REGION_POPULATION_RELATIVE   -0.038404\n",
            "ELEVATORS_AVG                -0.036413\n",
            "FLOORSMIN_AVG                -0.036321\n",
            "ELEVATORS_MEDI               -0.035940\n",
            "FLOORSMIN_MEDI               -0.035889\n",
            "FLOORSMIN_MODE               -0.035249\n",
            "ELEVATORS_MODE               -0.034261\n",
            "Name: TARGET, dtype: float64\n"
          ],
          "name": "stdout"
        }
      ]
    },
    {
      "cell_type": "code",
      "metadata": {
        "id": "TeWjp8H5MIsN",
        "colab_type": "code",
        "colab": {}
      },
      "source": [
        ""
      ],
      "execution_count": null,
      "outputs": []
    }
  ]
}