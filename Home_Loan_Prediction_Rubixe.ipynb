{
  "nbformat": 4,
  "nbformat_minor": 0,
  "metadata": {
    "colab": {
      "name": "Home Loan Prediction_Rubixe.ipynb",
      "provenance": [],
      "collapsed_sections": [],
      "mount_file_id": "1oDqPjey0KV930_ZlKkH0LiH9Wg65IAUF",
      "authorship_tag": "ABX9TyNSvLGiqLqw32SFhRf+cHlp",
      "include_colab_link": true
    },
    "kernelspec": {
      "name": "python3",
      "display_name": "Python 3"
    },
    "accelerator": "GPU"
  },
  "cells": [
    {
      "cell_type": "markdown",
      "metadata": {
        "id": "view-in-github",
        "colab_type": "text"
      },
      "source": [
        "<a href=\"https://colab.research.google.com/github/bijaykahar/House-Price-Predection/blob/master/Home_Loan_Prediction_Rubixe.ipynb\" target=\"_parent\"><img src=\"https://colab.research.google.com/assets/colab-badge.svg\" alt=\"Open In Colab\"/></a>"
      ]
    },
    {
      "cell_type": "code",
      "metadata": {
        "id": "WfuobysWh6Pb",
        "colab_type": "code",
        "colab": {
          "base_uri": "https://localhost:8080/",
          "height": 54
        },
        "outputId": "5c92bb60-5434-4c99-bed4-301063364f93"
      },
      "source": [
        "from google.colab import drive\n",
        "drive.mount('/content/drive')"
      ],
      "execution_count": 5,
      "outputs": [
        {
          "output_type": "stream",
          "text": [
            "Drive already mounted at /content/drive; to attempt to forcibly remount, call drive.mount(\"/content/drive\", force_remount=True).\n"
          ],
          "name": "stdout"
        }
      ]
    },
    {
      "cell_type": "code",
      "metadata": {
        "id": "0kCJ74aP0wmq",
        "colab_type": "code",
        "colab": {}
      },
      "source": [
        "import zipfile\n",
        "with zipfile.ZipFile('/content/drive/My Drive/Internship_DataMites/PRCP-1006-HomeLoanDef-20200821T121214Z-001.zip', 'r') as zip_ref:\n",
        "    zip_ref.extractall(\"/content/drive/My Drive/Internship_DataMites\")"
      ],
      "execution_count": null,
      "outputs": []
    },
    {
      "cell_type": "code",
      "metadata": {
        "id": "8-0qy8OEmJ7y",
        "colab_type": "code",
        "colab": {}
      },
      "source": [
        "path ='/content/drive/My Drive/Internship_DataMites/PRCP-1006-HomeLoanDef'"
      ],
      "execution_count": null,
      "outputs": []
    },
    {
      "cell_type": "code",
      "metadata": {
        "id": "npUKHaOjkNYb",
        "colab_type": "code",
        "colab": {}
      },
      "source": [
        "app_train= pd.read_csv(path+'/application_train.csv')\n",
        "app_train.shape"
      ],
      "execution_count": null,
      "outputs": []
    },
    {
      "cell_type": "code",
      "metadata": {
        "id": "M0iUaxVdnDou",
        "colab_type": "code",
        "colab": {}
      },
      "source": [
        "#Random Sampling taking the Top 1 Lakh Data \n",
        "X=app_train.head(100000) \n",
        "X.to_csv('TrainingData.csv')"
      ],
      "execution_count": null,
      "outputs": []
    },
    {
      "cell_type": "code",
      "metadata": {
        "id": "JhyBEvc2hkfc",
        "colab_type": "code",
        "colab": {}
      },
      "source": [
        "'''\n",
        "POS_CASH_bal = pd.read_csv(path + '/POS_CASH_balance.csv')\n",
        "bru = pd.read_csv(path+'/bureau.csv')\n",
        "bru_bal = pd.read_csv(path + \"/bureau_balance.csv\")\n",
        "cre_card_bal = pd.read_csv(path + \"/credit_card_balance.csv\")\n",
        "inst_paymnt= pd.read_csv(path + \"/installments_payments.csv\")\n",
        "prev_bal = pd.read_csv(path + \"/previous_application.csv\")\n",
        "\n",
        "'''"
      ],
      "execution_count": null,
      "outputs": []
    },
    {
      "cell_type": "markdown",
      "metadata": {
        "id": "_FF5DCWGwetQ",
        "colab_type": "text"
      },
      "source": [
        "From This Onward you Can Execute"
      ]
    },
    {
      "cell_type": "code",
      "metadata": {
        "id": "mQjQGrgWB4oQ",
        "colab_type": "code",
        "colab": {}
      },
      "source": [
        "import pandas as pd \n",
        "import numpy as np\n",
        "import seaborn as sns\n",
        "import matplotlib.pyplot as plt"
      ],
      "execution_count": 9,
      "outputs": []
    },
    {
      "cell_type": "code",
      "metadata": {
        "id": "bMopUmkKlQSR",
        "colab_type": "code",
        "colab": {}
      },
      "source": [
        "train_data=pd.read_csv('TrainingData.csv')"
      ],
      "execution_count": 11,
      "outputs": []
    },
    {
      "cell_type": "code",
      "metadata": {
        "id": "xzWJjfyEmLpw",
        "colab_type": "code",
        "colab": {
          "base_uri": "https://localhost:8080/",
          "height": 187
        },
        "outputId": "b38b7741-aa3c-4306-8ed2-4b5a155d9610"
      },
      "source": [
        "train_data.columns"
      ],
      "execution_count": 12,
      "outputs": [
        {
          "output_type": "execute_result",
          "data": {
            "text/plain": [
              "Index(['Unnamed: 0', 'SK_ID_CURR', 'TARGET', 'NAME_CONTRACT_TYPE',\n",
              "       'CODE_GENDER', 'FLAG_OWN_CAR', 'FLAG_OWN_REALTY', 'CNT_CHILDREN',\n",
              "       'AMT_INCOME_TOTAL', 'AMT_CREDIT',\n",
              "       ...\n",
              "       'FLAG_DOCUMENT_18', 'FLAG_DOCUMENT_19', 'FLAG_DOCUMENT_20',\n",
              "       'FLAG_DOCUMENT_21', 'AMT_REQ_CREDIT_BUREAU_HOUR',\n",
              "       'AMT_REQ_CREDIT_BUREAU_DAY', 'AMT_REQ_CREDIT_BUREAU_WEEK',\n",
              "       'AMT_REQ_CREDIT_BUREAU_MON', 'AMT_REQ_CREDIT_BUREAU_QRT',\n",
              "       'AMT_REQ_CREDIT_BUREAU_YEAR'],\n",
              "      dtype='object', length=123)"
            ]
          },
          "metadata": {
            "tags": []
          },
          "execution_count": 12
        }
      ]
    },
    {
      "cell_type": "code",
      "metadata": {
        "id": "1VnZv8iLDYvT",
        "colab_type": "code",
        "colab": {
          "base_uri": "https://localhost:8080/",
          "height": 34
        },
        "outputId": "2416abe9-2c96-42dc-889c-61240e5d1965"
      },
      "source": [
        "train_data.shape"
      ],
      "execution_count": 13,
      "outputs": [
        {
          "output_type": "execute_result",
          "data": {
            "text/plain": [
              "(7676, 123)"
            ]
          },
          "metadata": {
            "tags": []
          },
          "execution_count": 13
        }
      ]
    },
    {
      "cell_type": "code",
      "metadata": {
        "id": "u1VUAP68hJzP",
        "colab_type": "code",
        "colab": {}
      },
      "source": [
        "del train_data['Unnamed: 0']  #Removing The Unwanted Variable "
      ],
      "execution_count": 14,
      "outputs": []
    },
    {
      "cell_type": "code",
      "metadata": {
        "id": "SGAKrAKnBxX2",
        "colab_type": "code",
        "colab": {
          "base_uri": "https://localhost:8080/",
          "height": 34
        },
        "outputId": "caad4464-8792-42e4-8e5d-1fd26661ae69"
      },
      "source": [
        "count=0\n",
        "for col in train_data.columns:\n",
        "  if (train_data[col].isnull().count()):\n",
        "    count=count+1\n",
        "\n",
        "print(count)\n",
        "\n",
        "#Note - All Columns has Null Values "
      ],
      "execution_count": 15,
      "outputs": [
        {
          "output_type": "stream",
          "text": [
            "122\n"
          ],
          "name": "stdout"
        }
      ]
    },
    {
      "cell_type": "code",
      "metadata": {
        "id": "0TlQeu0vDVBe",
        "colab_type": "code",
        "colab": {
          "base_uri": "https://localhost:8080/",
          "height": 34
        },
        "outputId": "59d1cc39-f526-4df5-f1f3-dad6534afc5a"
      },
      "source": [
        "def null_val_treatment(df):\n",
        "  count=0\n",
        "  for col in df.columns:\n",
        "    if (100 * train_data[col].isnull().sum()) / len(df) > 0.50:\n",
        "      count=count+1\n",
        "      #print(col)\n",
        "  print(count)\n",
        "      \n",
        "\n",
        "\n",
        "null_val_treatment(train_data)\n"
      ],
      "execution_count": 16,
      "outputs": [
        {
          "output_type": "stream",
          "text": [
            "57\n"
          ],
          "name": "stdout"
        }
      ]
    },
    {
      "cell_type": "code",
      "metadata": {
        "id": "GQr_r3w8Ft9G",
        "colab_type": "code",
        "colab": {
          "base_uri": "https://localhost:8080/",
          "height": 85
        },
        "outputId": "6f88b66a-6d44-4387-e88d-a74f4bfda10c"
      },
      "source": [
        "train_data.dtypes.value_counts()"
      ],
      "execution_count": 17,
      "outputs": [
        {
          "output_type": "execute_result",
          "data": {
            "text/plain": [
              "float64    101\n",
              "object      16\n",
              "int64        5\n",
              "dtype: int64"
            ]
          },
          "metadata": {
            "tags": []
          },
          "execution_count": 17
        }
      ]
    },
    {
      "cell_type": "code",
      "metadata": {
        "id": "CGaStgskF0mG",
        "colab_type": "code",
        "colab": {
          "base_uri": "https://localhost:8080/",
          "height": 306
        },
        "outputId": "5fb06937-f232-46ba-b2d5-557595fb4baa"
      },
      "source": [
        "train_data.select_dtypes('object').apply(pd.Series.nunique, axis = 0)"
      ],
      "execution_count": 18,
      "outputs": [
        {
          "output_type": "execute_result",
          "data": {
            "text/plain": [
              "NAME_CONTRACT_TYPE             2\n",
              "CODE_GENDER                    2\n",
              "FLAG_OWN_CAR                   2\n",
              "FLAG_OWN_REALTY                2\n",
              "NAME_TYPE_SUITE                7\n",
              "NAME_INCOME_TYPE               5\n",
              "NAME_EDUCATION_TYPE            5\n",
              "NAME_FAMILY_STATUS             5\n",
              "NAME_HOUSING_TYPE              6\n",
              "OCCUPATION_TYPE               18\n",
              "WEEKDAY_APPR_PROCESS_START     7\n",
              "ORGANIZATION_TYPE             58\n",
              "FONDKAPREMONT_MODE             4\n",
              "HOUSETYPE_MODE                 3\n",
              "WALLSMATERIAL_MODE             7\n",
              "EMERGENCYSTATE_MODE            2\n",
              "dtype: int64"
            ]
          },
          "metadata": {
            "tags": []
          },
          "execution_count": 18
        }
      ]
    },
    {
      "cell_type": "code",
      "metadata": {
        "id": "vPKBgCQ-GUoV",
        "colab_type": "code",
        "colab": {}
      },
      "source": [
        "from sklearn.preprocessing import LabelEncoder\n",
        "labelencoder=  LabelEncoder()"
      ],
      "execution_count": 19,
      "outputs": []
    },
    {
      "cell_type": "code",
      "metadata": {
        "id": "gv3GuTdoGXAz",
        "colab_type": "code",
        "colab": {}
      },
      "source": [
        "cat_features=[x for x in train_data.columns if train_data[x].dtype==\"object\"]\n",
        "\n",
        "for col in cat_features:\n",
        "    if col in train_data.columns:\n",
        "        i = train_data.columns.get_loc(col)\n",
        "        train_data.iloc[:,i] = train_data.apply(lambda i:labelencoder.fit_transform(i.astype(str)), axis=0, result_type='expand')"
      ],
      "execution_count": 20,
      "outputs": []
    },
    {
      "cell_type": "code",
      "metadata": {
        "id": "_mn5sgpVHkLY",
        "colab_type": "code",
        "colab": {
          "base_uri": "https://localhost:8080/",
          "height": 204
        },
        "outputId": "e5f25c54-9923-46e8-b270-2c8c8f7c8229"
      },
      "source": [
        "train_data['ORGANIZATION_TYPE'].head(10)"
      ],
      "execution_count": 21,
      "outputs": [
        {
          "output_type": "execute_result",
          "data": {
            "text/plain": [
              "0     5\n",
              "1    39\n",
              "2    11\n",
              "3     5\n",
              "4    37\n",
              "5    33\n",
              "6     5\n",
              "7    33\n",
              "8    57\n",
              "9     9\n",
              "Name: ORGANIZATION_TYPE, dtype: int64"
            ]
          },
          "metadata": {
            "tags": []
          },
          "execution_count": 21
        }
      ]
    },
    {
      "cell_type": "code",
      "metadata": {
        "id": "csPssHaaBjG9",
        "colab_type": "code",
        "colab": {
          "base_uri": "https://localhost:8080/",
          "height": 34
        },
        "outputId": "e4be524d-44a1-49af-fb9b-7df2cb258d9d"
      },
      "source": [
        "len(train_data.columns)"
      ],
      "execution_count": 22,
      "outputs": [
        {
          "output_type": "execute_result",
          "data": {
            "text/plain": [
              "122"
            ]
          },
          "metadata": {
            "tags": []
          },
          "execution_count": 22
        }
      ]
    },
    {
      "cell_type": "code",
      "metadata": {
        "id": "sEKF5qpvIn-n",
        "colab_type": "code",
        "colab": {
          "base_uri": "https://localhost:8080/",
          "height": 612
        },
        "outputId": "ed9df611-a19a-4b2c-d120-9dc65bb3cfbf"
      },
      "source": [
        "correlations = train_data.corr()['TARGET'].sort_values() \n",
        "\n",
        "# Display correlations\n",
        "print('Most Positive Correlations:\\n', correlations.tail(15))\n",
        "print('\\nMost Negative Correlations:\\n', correlations.head(15))"
      ],
      "execution_count": 23,
      "outputs": [
        {
          "output_type": "stream",
          "text": [
            "Most Positive Correlations:\n",
            " DEF_30_CNT_SOCIAL_CIRCLE       0.056061\n",
            "DAYS_REGISTRATION              0.056881\n",
            "CODE_GENDER                    0.058050\n",
            "DAYS_LAST_PHONE_CHANGE         0.061730\n",
            "NAME_EDUCATION_TYPE            0.067345\n",
            "DAYS_ID_PUBLISH                0.069965\n",
            "REGION_RATING_CLIENT_W_CITY    0.072158\n",
            "REGION_RATING_CLIENT           0.072341\n",
            "DAYS_BIRTH                     0.085858\n",
            "TARGET                         1.000000\n",
            "FLAG_MOBIL                          NaN\n",
            "FLAG_DOCUMENT_2                     NaN\n",
            "FLAG_DOCUMENT_7                     NaN\n",
            "FLAG_DOCUMENT_10                    NaN\n",
            "FLAG_DOCUMENT_12                    NaN\n",
            "Name: TARGET, dtype: float64\n",
            "\n",
            "Most Negative Correlations:\n",
            " EXT_SOURCE_3                   -0.205454\n",
            "EXT_SOURCE_1                   -0.172153\n",
            "EXT_SOURCE_2                   -0.164017\n",
            "AMT_GOODS_PRICE                -0.053932\n",
            "AMT_CREDIT                     -0.046635\n",
            "NAME_CONTRACT_TYPE             -0.039358\n",
            "FLOORSMIN_MEDI                 -0.038762\n",
            "FLOORSMIN_MODE                 -0.037877\n",
            "FLOORSMIN_AVG                  -0.037665\n",
            "DAYS_EMPLOYED                  -0.034227\n",
            "HOUR_APPR_PROCESS_START        -0.033296\n",
            "REGION_POPULATION_RELATIVE     -0.032888\n",
            "YEARS_BEGINEXPLUATATION_MEDI   -0.030767\n",
            "FLAG_PHONE                     -0.029736\n",
            "YEARS_BEGINEXPLUATATION_MODE   -0.029663\n",
            "Name: TARGET, dtype: float64\n"
          ],
          "name": "stdout"
        }
      ]
    },
    {
      "cell_type": "code",
      "metadata": {
        "id": "TeWjp8H5MIsN",
        "colab_type": "code",
        "colab": {}
      },
      "source": [
        ""
      ],
      "execution_count": 23,
      "outputs": []
    }
  ]
}